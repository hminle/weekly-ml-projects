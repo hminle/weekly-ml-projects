{
 "cells": [
  {
   "cell_type": "code",
   "execution_count": 26,
   "metadata": {
    "collapsed": true
   },
   "outputs": [],
   "source": [
    "import os\n",
    "import argparse\n",
    "import importlib\n",
    "import matplotlib.pyplot as plt\n",
    "import matplotlib.gridspec as gridspec\n",
    "%matplotlib inline"
   ]
  },
  {
   "cell_type": "code",
   "execution_count": 2,
   "metadata": {
    "collapsed": false
   },
   "outputs": [],
   "source": [
    "import torch\n",
    "import torch.nn as nn\n",
    "import torch.nn.functional as F\n",
    "from torch.autograd import Variable\n",
    "import torch.optim as optim\n",
    "from torchvision import transforms\n",
    "import numpy as np"
   ]
  },
  {
   "cell_type": "code",
   "execution_count": 3,
   "metadata": {
    "collapsed": false
   },
   "outputs": [
    {
     "data": {
      "text/plain": [
       "<module 'mnist' from '/home/hminle/Github/weekly-ml-projects/conditional-vae/mnist.py'>"
      ]
     },
     "execution_count": 3,
     "metadata": {},
     "output_type": "execute_result"
    }
   ],
   "source": [
    "import mnist; importlib.reload(mnist)"
   ]
  },
  {
   "cell_type": "code",
   "execution_count": 4,
   "metadata": {
    "collapsed": true
   },
   "outputs": [],
   "source": [
    "# Define parser arguments\n",
    "parser = {\n",
    "    \"batch_size\": 128,\n",
    "    \"epochs\": 10,\n",
    "    \"no_cuda\": False,\n",
    "    \"seed\": 1,\n",
    "    \"log_interval\": 10,\n",
    "}"
   ]
  },
  {
   "cell_type": "code",
   "execution_count": 5,
   "metadata": {
    "collapsed": false
   },
   "outputs": [],
   "source": [
    "# Parse arguments for  model\n",
    "args = argparse.Namespace(**parser) # parse arguments\n",
    "args.cuda = not args.no_cuda and torch.cuda.is_available()"
   ]
  },
  {
   "cell_type": "markdown",
   "metadata": {},
   "source": [
    "## Load data"
   ]
  },
  {
   "cell_type": "code",
   "execution_count": 6,
   "metadata": {
    "collapsed": false
   },
   "outputs": [],
   "source": [
    "train_loader = torch.utils.data.DataLoader(\n",
    "    mnist.MNIST('../data', train=True, transform=transforms.ToTensor()),\n",
    "    batch_size=args.batch_size, shuffle=True)\n",
    "\n",
    "test_loader = torch.utils.data.DataLoader(\n",
    "    mnist.MNIST('../data', train=False, transform=transforms.ToTensor()),\n",
    "    batch_size=args.batch_size, shuffle=True)"
   ]
  },
  {
   "cell_type": "markdown",
   "metadata": {},
   "source": [
    "## Define parameters"
   ]
  },
  {
   "cell_type": "code",
   "execution_count": 7,
   "metadata": {
    "collapsed": true
   },
   "outputs": [],
   "source": [
    "mb_size = args.batch_size\n",
    "Z_dim = 100\n",
    "#X_dim = mnist.train.images.shape[1]\n",
    "#y_dim = mnist.train.labels.shape[1]\n",
    "X_dim = 784\n",
    "y_dim = 10\n",
    "h_dim = 128\n",
    "cnt = 0\n",
    "lr = 1e-3"
   ]
  },
  {
   "cell_type": "code",
   "execution_count": 8,
   "metadata": {
    "collapsed": true
   },
   "outputs": [],
   "source": [
    "# Init weights\n",
    "# size[0]: input dim\n",
    "# size[1]: output dim\n",
    "def xavier_init(size):\n",
    "    in_dim = size[0]\n",
    "    xavier_stddev = 1. / np.sqrt(in_dim / 2.)\n",
    "    return Variable(torch.randn(*size) * xavier_stddev, requires_grad=True)"
   ]
  },
  {
   "cell_type": "markdown",
   "metadata": {},
   "source": [
    "## Encode"
   ]
  },
  {
   "cell_type": "code",
   "execution_count": 9,
   "metadata": {
    "collapsed": false
   },
   "outputs": [],
   "source": [
    "Wxh = xavier_init(size=[X_dim + y_dim, h_dim])\n",
    "bxh = Variable(torch.zeros(h_dim), requires_grad=True)\n",
    "\n",
    "Whz_mu = xavier_init(size=[h_dim, Z_dim])\n",
    "bhz_mu = Variable(torch.zeros(Z_dim), requires_grad=True)\n",
    "\n",
    "Whz_var = xavier_init(size=[h_dim, Z_dim])\n",
    "bhz_var = Variable(torch.zeros(Z_dim), requires_grad=True)"
   ]
  },
  {
   "cell_type": "code",
   "execution_count": 10,
   "metadata": {
    "collapsed": true
   },
   "outputs": [],
   "source": [
    "# mu and var --> encoder --> need them for reparemetric --> z\n",
    "def Q(X, c):\n",
    "    inputs = torch.cat([X, c], 1) #concat: batch_sizex(X:784 + y: 10) = batch_size x 794\n",
    "    h = F.relu(inputs @ Wxh + bxh.repeat(inputs.size(0), 1)) #bxh = 64 x h_dim\n",
    "    z_mu = h @ Whz_mu + bhz_mu.repeat(h.size(0), 1)\n",
    "    z_logvar = h @ Whz_var + bhz_var.repeat(h.size(0), 1)\n",
    "    return z_mu, z_logvar"
   ]
  },
  {
   "cell_type": "code",
   "execution_count": 24,
   "metadata": {
    "collapsed": true
   },
   "outputs": [],
   "source": [
    "def sample_z(mu, log_var):\n",
    "    eps = Variable(torch.randn(mu.size(0), Z_dim)) # eps--> random normal distribution\n",
    "    return mu + torch.exp(log_var / 2) * eps # --> z = mu + std_var*eps"
   ]
  },
  {
   "cell_type": "markdown",
   "metadata": {},
   "source": [
    "## Decode\n"
   ]
  },
  {
   "cell_type": "code",
   "execution_count": 12,
   "metadata": {
    "collapsed": true
   },
   "outputs": [],
   "source": [
    "# =============================== P(X|z) ======================================\n",
    "\n",
    "Wzh = xavier_init(size=[Z_dim + y_dim, h_dim])\n",
    "bzh = Variable(torch.zeros(h_dim), requires_grad=True)\n",
    "\n",
    "Whx = xavier_init(size=[h_dim, X_dim])\n",
    "bhx = Variable(torch.zeros(X_dim), requires_grad=True)\n",
    "\n",
    "\n",
    "def P(z, c):\n",
    "    inputs = torch.cat([z, c], 1)\n",
    "    h = F.relu(inputs @ Wzh + bzh.repeat(inputs.size(0), 1))\n",
    "    X = F.sigmoid(h @ Whx + bhx.repeat(h.size(0), 1))\n",
    "    return X"
   ]
  },
  {
   "cell_type": "markdown",
   "metadata": {},
   "source": [
    "## Training"
   ]
  },
  {
   "cell_type": "code",
   "execution_count": 13,
   "metadata": {
    "collapsed": true
   },
   "outputs": [],
   "source": [
    "params = [Wxh, bxh, Whz_mu, bhz_mu, Whz_var, bhz_var,\n",
    "          Wzh, bzh, Whx, bhx]\n",
    "\n",
    "# Define optimizer: similar to optim.Adam(model.parameters, lr=lr)\n",
    "solver = optim.Adam(params, lr=lr) "
   ]
  },
  {
   "cell_type": "code",
   "execution_count": 21,
   "metadata": {
    "collapsed": true
   },
   "outputs": [],
   "source": [
    "# label: torch.LongTensor\n",
    "def oneHot(label):\n",
    "    arrayTmp = np.zeros(shape=[label.size(0), y_dim])\n",
    "    for rowIndex, value in enumerate(label):\n",
    "        arrayTmp[rowIndex][value] = 1\n",
    "    return torch.from_numpy(arrayTmp.astype('float32'))"
   ]
  },
  {
   "cell_type": "code",
   "execution_count": 22,
   "metadata": {
    "collapsed": false
   },
   "outputs": [
    {
     "name": "stdout",
     "output_type": "stream",
     "text": [
      "torch.Size([128, 784])\n",
      "torch.Size([128, 10])\n"
     ]
    }
   ],
   "source": [
    "label = None\n",
    "for X, c in train_loader:\n",
    "    print(X.view(-1, 784).size())\n",
    "    print(oneHot(c).size())\n",
    "    torch.cat([X.view(-1, 784), oneHot(c)], 1)\n",
    "    label = c\n",
    "    break"
   ]
  },
  {
   "cell_type": "code",
   "execution_count": 16,
   "metadata": {
    "collapsed": false
   },
   "outputs": [
    {
     "data": {
      "text/plain": [
       "\n",
       " 7\n",
       " 5\n",
       " 4\n",
       " 4\n",
       " 9\n",
       " 1\n",
       " 3\n",
       " 5\n",
       " 1\n",
       " 4\n",
       " 8\n",
       " 5\n",
       " 5\n",
       " 2\n",
       " 9\n",
       " 2\n",
       " 4\n",
       " 7\n",
       " 2\n",
       " 7\n",
       " 8\n",
       " 9\n",
       " 8\n",
       " 3\n",
       " 2\n",
       " 3\n",
       " 7\n",
       " 0\n",
       " 2\n",
       " 6\n",
       " 6\n",
       " 4\n",
       " 7\n",
       " 3\n",
       " 3\n",
       " 2\n",
       " 9\n",
       " 2\n",
       " 5\n",
       " 2\n",
       " 3\n",
       " 8\n",
       " 8\n",
       " 6\n",
       " 4\n",
       " 5\n",
       " 2\n",
       " 3\n",
       " 3\n",
       " 2\n",
       " 0\n",
       " 2\n",
       " 5\n",
       " 3\n",
       " 8\n",
       " 4\n",
       " 5\n",
       " 3\n",
       " 9\n",
       " 2\n",
       " 8\n",
       " 0\n",
       " 5\n",
       " 7\n",
       " 7\n",
       " 3\n",
       " 4\n",
       " 1\n",
       " 4\n",
       " 6\n",
       " 9\n",
       " 5\n",
       " 3\n",
       " 3\n",
       " 9\n",
       " 9\n",
       " 8\n",
       " 6\n",
       " 7\n",
       " 2\n",
       " 6\n",
       " 1\n",
       " 0\n",
       " 8\n",
       " 9\n",
       " 0\n",
       " 1\n",
       " 8\n",
       " 3\n",
       " 3\n",
       " 0\n",
       " 6\n",
       " 2\n",
       " 6\n",
       " 8\n",
       " 9\n",
       " 8\n",
       " 2\n",
       " 6\n",
       " 6\n",
       " 9\n",
       " 2\n",
       " 0\n",
       " 5\n",
       " 6\n",
       " 2\n",
       " 0\n",
       " 0\n",
       " 4\n",
       " 5\n",
       " 4\n",
       " 2\n",
       " 6\n",
       " 3\n",
       " 2\n",
       " 9\n",
       " 2\n",
       " 8\n",
       " 1\n",
       " 8\n",
       " 0\n",
       " 8\n",
       " 1\n",
       " 4\n",
       " 9\n",
       " 1\n",
       " 8\n",
       " 7\n",
       "[torch.LongTensor of size 128]"
      ]
     },
     "execution_count": 16,
     "metadata": {},
     "output_type": "execute_result"
    }
   ],
   "source": [
    "label"
   ]
  },
  {
   "cell_type": "code",
   "execution_count": 17,
   "metadata": {
    "collapsed": false
   },
   "outputs": [
    {
     "data": {
      "text/plain": [
       "array([[ 0.,  1.,  0.],\n",
       "       [ 0.,  0.,  0.]])"
      ]
     },
     "execution_count": 17,
     "metadata": {},
     "output_type": "execute_result"
    }
   ],
   "source": [
    "a = np.zeros(shape=[2,3])\n",
    "a[0][1]=1\n",
    "a"
   ]
  },
  {
   "cell_type": "code",
   "execution_count": 18,
   "metadata": {
    "collapsed": false
   },
   "outputs": [
    {
     "data": {
      "text/plain": [
       "\n",
       "    0     0     0  ...      1     0     0\n",
       "    0     0     0  ...      0     0     0\n",
       "    0     0     0  ...      0     0     0\n",
       "       ...          ⋱          ...       \n",
       "    0     1     0  ...      0     0     0\n",
       "    0     0     0  ...      0     1     0\n",
       "    0     0     0  ...      1     0     0\n",
       "[torch.FloatTensor of size 128x10]"
      ]
     },
     "execution_count": 18,
     "metadata": {},
     "output_type": "execute_result"
    }
   ],
   "source": [
    "oneHot(label)"
   ]
  },
  {
   "cell_type": "code",
   "execution_count": 29,
   "metadata": {
    "collapsed": false
   },
   "outputs": [
    {
     "name": "stdout",
     "output_type": "stream",
     "text": [
      "Iter-0; Loss: 0.23\n"
     ]
    },
    {
     "data": {
      "image/png": "[encoded data removed]",
      "text/plain": [
       "<matplotlib.figure.Figure at 0x7fd41bd26550>"
      ]
     },
     "metadata": {},
     "output_type": "display_data"
    }
   ],
   "source": [
    "#for it in range(100000):\n",
    "for it, (X, c) in enumerate(train_loader):\n",
    "    X = X.view(-1, 784)\n",
    "    X = Variable(X)\n",
    "    c = Variable(oneHot(c))\n",
    "\n",
    "    # Forward\n",
    "    z_mu, z_logvar = Q(X, c)\n",
    "    z = sample_z(z_mu, z_logvar)\n",
    "    X_sample = P(z, c)\n",
    "\n",
    "    # Loss\n",
    "    recon_loss = F.binary_cross_entropy(X_sample, X, size_average=True)\n",
    "    kl_loss = torch.mean(0.5 * torch.sum(torch.exp(z_logvar) + z_mu**2 - 1. - z_logvar, 1))\n",
    "    loss = recon_loss + kl_loss\n",
    "\n",
    "    # Housekeeping\n",
    "    for p in params:\n",
    "        p.grad.data.zero_()\n",
    "        \n",
    "    # Backward\n",
    "    loss.backward()\n",
    "\n",
    "    # Update\n",
    "    solver.step()\n",
    "\n",
    "\n",
    "    # Print and plot every now and then\n",
    "    if it % 1000 == 0:\n",
    "        print('Iter-{}; Loss: {:.4}'.format(it, loss.data[0]))\n",
    "\n",
    "        c = np.zeros(shape=[mb_size, y_dim], dtype='float32')\n",
    "        c[:, np.random.randint(0, 10)] = 1.\n",
    "        c = Variable(torch.from_numpy(c))\n",
    "        z = Variable(torch.randn(mb_size, Z_dim))\n",
    "        samples = P(z, c).data.numpy()[:16]\n",
    "\n",
    "        fig = plt.figure(figsize=(4, 4))\n",
    "        gs = gridspec.GridSpec(4, 4)\n",
    "        gs.update(wspace=0.05, hspace=0.05)\n",
    "\n",
    "        for i, sample in enumerate(samples):\n",
    "            ax = plt.subplot(gs[i])\n",
    "            plt.axis('off')\n",
    "            ax.set_xticklabels([])\n",
    "            ax.set_yticklabels([])\n",
    "            ax.set_aspect('equal')\n",
    "            plt.imshow(sample.reshape(28, 28), cmap='Greys_r')\n",
    "\n",
    "        #if not os.path.exists('out/'):\n",
    "        #    os.makedirs('out/')\n",
    "\n",
    "        #plt.savefig('out/{}.png'.format(str(cnt).zfill(3)), bbox_inches='tight')\n",
    "        plt.show()\n",
    "        cnt += 1\n",
    "        plt.close(fig)"
   ]
  },
  {
   "cell_type": "code",
   "execution_count": null,
   "metadata": {
    "collapsed": true
   },
   "outputs": [],
   "source": []
  },
  {
   "cell_type": "code",
   "execution_count": null,
   "metadata": {
    "collapsed": true
   },
   "outputs": [],
   "source": []
  }
 ],
 "metadata": {
  "anaconda-cloud": {},
  "kernelspec": {
   "display_name": "Python [conda env:pydata35]",
   "language": "python",
   "name": "conda-env-pydata35-py"
  },
  "language_info": {
   "codemirror_mode": {
    "name": "ipython",
    "version": 3
   },
   "file_extension": ".py",
   "mimetype": "text/x-python",
   "name": "python",
   "nbconvert_exporter": "python",
   "pygments_lexer": "ipython3",
   "version": "3.5.2"
  }
 },
 "nbformat": 4,
 "nbformat_minor": 2
}
